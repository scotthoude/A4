{
 "cells": [
  {
   "cell_type": "code",
   "execution_count": 2,
   "metadata": {
    "collapsed": false
   },
   "outputs": [],
   "source": [
    "# This pulls the data down from my email\n",
    "\n",
    "import imaplib, email, getpass\n",
    "from email.utils import getaddresses\n",
    "\n",
    "# Email settings\n",
    "imap_server = 'imap.gmail.com'\n",
    "imap_user = 'scott.houde@gmail.com'\n",
    "imap_password = getpass.getpass()\n",
    "# imap_password = '' #removed and revoked password\n",
    "# Connection\n",
    "conn = imaplib.IMAP4_SSL(imap_server)\n",
    "(retcode, capabilities) = conn.login(imap_user, imap_password)\n",
    "\n",
    "conn.list() # this makes the actual connection, run this command alone to see a list of folders\n",
    "\n",
    "conn.select(\"[Gmail]/All Mail\", readonly=True) # This saves out all the mail, in and out\n",
    "# result, data = conn.uid('search', None, 'ALL')\n",
    "result, data = conn.uid('search', None, '(SINCE \"20-Apr-2015\" BEFORE \"20-Apr-2016\")') # Adjust the dates here\n",
    "\n",
    "uids = data[0].split()\n",
    " \n",
    "# Download headers\n",
    "result, data = conn.uid('fetch', ','.join(uids), '(BODY[HEADER.FIELDS (MESSAGE-ID IN-REPLY-TO FROM TO CC DATE)])')"
   ]
  },
  {
   "cell_type": "code",
   "execution_count": 3,
   "metadata": {
    "collapsed": false
   },
   "outputs": [],
   "source": [
    "# This outputs all of my email data to a text file so I can read it in easier later\n",
    "# import datetime\n",
    "import time\n",
    "\n",
    "# Where data will be stored\n",
    "raw_file = open('raw-email-rec.tsv', 'w')\n",
    "# Header for TSV file\n",
    "raw_file.write(\"Message-ID\\tDate\\tReplyTo\\tFrom\\tTo\\tCc\\n\")\n",
    "# Parse data and spit out info\n",
    "for i in range(0, len(data)):\n",
    "     \n",
    "    # If the current item is _not_ an email header\n",
    "    if len(data[i]) != 2:\n",
    "        continue\n",
    "     \n",
    "    # Okay, it's an email header. Parse it.\n",
    "    msg = email.message_from_string(data[i][1])\n",
    "    mids = msg.get_all('message-id', None)\n",
    "    mdates = msg.get_all('date', None)\n",
    "    reply_to = msg.get_all('in-reply-To', None)\n",
    "    senders = msg.get_all('from', [])\n",
    "    receivers = msg.get_all('to', [])\n",
    "    ccs = msg.get_all('cc', [])\n",
    "    \n",
    "    email_sent = str(time.mktime(email.utils.parsedate(mdates[0])))\n",
    "\n",
    "    row = \"\\t\" if not mids else mids[0] + \"\\t\"\n",
    "    row += \"\\t\" if not email_sent else email_sent + \"\\t\"\n",
    "    row += \"\\t\" if not reply_to else reply_to[0] + \"\\t\"\n",
    "    \n",
    "    # Only one person sends an email, but just in case\n",
    "    for name, addr in getaddresses(senders):\n",
    "        row += addr + \" \"\n",
    "    row += \"\\t\"\n",
    "     \n",
    "    # Space-delimited list of those the email was addressed to\n",
    "    for name, addr in getaddresses(receivers):\n",
    "        row += addr + \" \"\n",
    "    row += \"\\t\"\n",
    "        \n",
    "    # Space-delimited list of those who were CC'd\n",
    "    for name, addr in getaddresses(ccs):\n",
    "        row += addr + \" \"\n",
    "     \n",
    "    row += \"\\n\"\n",
    "     \n",
    "    # Just going to output tab-delimited, raw data.\n",
    "    raw_file.write(row)\n",
    "\n",
    "# Done with file, so close it\n",
    "raw_file.close()\n",
    "\n"
   ]
  },
  {
   "cell_type": "markdown",
   "metadata": {},
   "source": [
    "So when I pull the last year from all of my email I find that I received and sent roughly 3500 emails from 257 unique from_to addresses.  However out of those 257 only 38 are from actual people.  So I made of list and use that to start a dictionary that I will use to filter down my raw data and to store my results"
   ]
  },
  {
   "cell_type": "code",
   "execution_count": 31,
   "metadata": {
    "collapsed": false
   },
   "outputs": [],
   "source": [
    "# This reads my list of important contacts from a file and stores them in a dictionary that I can reuse later\n",
    "import csv\n",
    "\n",
    "contacts = {}\n",
    "contact_index = []\n",
    "\n",
    "with open('contacts.txt', 'rb') as f:\n",
    "    reader = csv.reader(f)\n",
    "    for row in reader:\n",
    "        contacts[row[0]] = [0,0,0] # The list will be emails received from, emails sent to, total response time\n",
    "        contact_index.append(row[0].strip()) # to save me time later, when machine learnin'"
   ]
  },
  {
   "cell_type": "code",
   "execution_count": 28,
   "metadata": {
    "collapsed": false
   },
   "outputs": [],
   "source": [
    "# Okay, now lets reduce down my email data to just the address I care about\n",
    "# I'm going to read back in my email file and only save the rows I care about\n",
    "# while I do that I'm going to split the email file into two, one for emails I've received and one for emails I've sent\n",
    "\n",
    "temp = []\n",
    "inbox = []\n",
    "sentbox = []\n",
    "\n",
    "with open('raw-email-rec.tsv', 'rb') as f:\n",
    "    reader = csv.reader(f, delimiter='\\t') # yup csv reader for tsv files, who knew\n",
    "    reader.next() # skips header row\n",
    "    for row in reader:\n",
    "        temp.append(row)\n",
    "        if row[3] in contacts: # is this from someone I care about\n",
    "            if row[3].strip() == 'scott.houde@gmail.com': # this is from me aka sent mail\n",
    "                sentbox.append(row)\n",
    "            else:\n",
    "                inbox.append(row)\n"
   ]
  },
  {
   "cell_type": "markdown",
   "metadata": {},
   "source": [
    "So now I've reduced down from 3500 emails to just over 900, with 454 emails received from contacts I care about and 449 being sent by me"
   ]
  },
  {
   "cell_type": "code",
   "execution_count": 49,
   "metadata": {
    "collapsed": false
   },
   "outputs": [],
   "source": [
    "# Print statements that I used for testing\n",
    "# print len(inbox)\n",
    "# print inbox[0]\n",
    "# print len(sentbox)\n",
    "# print sentbox[0]\n",
    "\n",
    "# print data[0]\n",
    "\n",
    "# print temp[5]\n",
    "\n",
    "# for i in range(len(inbox)):\n",
    "#     if inbox[i][0] == '<CAGFRn0GvMX=c-rOu56ipgx=ZT36ifrg+Cxou4-cjHYNKV+MPRQ@mail.gmail.com>':\n",
    "#         print inbox[i]"
   ]
  },
  {
   "cell_type": "code",
   "execution_count": 366,
   "metadata": {
    "collapsed": false
   },
   "outputs": [],
   "source": [
    "# Now I'm going to iterate through the inbox array and count how many times I've received an email from an address\n",
    "# then count the number of times I've responded and the total response time\n",
    "# the message ID in inbox should match up to a in_reply_to message ID in sentbox\n",
    "# [messageID, date/time, in-reply-to, from, to,cc]\n",
    "# contacts is [nbr received from, nbr sent to, [list of response times], mean response, median response, var, % response] \n",
    "\n",
    "details = [] # this stores message details that I can split and use for machine learning\n",
    "\n",
    "# an important thing to note is that this doesn't take into account if I initiated the email and they responded to me\n",
    "\n",
    "for key in contacts: # since I keep re-running this I need to clear it each time\n",
    "    contacts[key] = [0,0,[],0,0,0,0]\n",
    "\n",
    "for email in inbox:\n",
    "    temp = []\n",
    "    responses = []\n",
    "    mID = email[0]\n",
    "    sender = email[3]\n",
    "    contacts[sender][0] +=1\n",
    "    temp.append(mID)\n",
    "    temp.append(sender.strip())\n",
    "    temp.append(contact_index.index(sender.strip()))\n",
    "    temp.append(int(float(email[1])))\n",
    "    responseTime = 0 # This means no response, the machine learning doesn't like None\n",
    "    for response in sentbox: #This is O(n^2) but still pretty fast since I've filtered down\n",
    "        rID = response[2]\n",
    "        if rID == mID:\n",
    "            contacts[sender][1] +=1\n",
    "            responseTime = (float(response[1]) - float(email[1])) / 60 # convert to minutes\n",
    "            if responseTime < 0:\n",
    "                responseTime = 0 # if I have a negative response time set back to 0 - this is caused by a mailing list\n",
    "            responses.append(responseTime)    \n",
    "            contacts[sender][2].append(responseTime)\n",
    "    \n",
    "    temp.append(responseTime)\n",
    "    details.append(temp)\n",
    "    \n",
    "overall = [0,0,0,0,0,[]] # I'm going to use this to store some over all statistics\n",
    "# [total received, total replied to, % responded, mean response, median response, [list of response times],]\n",
    "\n",
    "        \n",
    "for key in contacts: # precalc some statistics for this contact\n",
    "    overall[0] += contacts[key][0] # add to emails received\n",
    "    if contacts[key][1] != 0:\n",
    "        overall[1] += contacts[key][1] # add to emails replied\n",
    "        overall[5] += contacts[key][2] # append all the response times\n",
    "        meanTime = np.mean(contacts[key][2])\n",
    "        medianTime = np.median(contacts[key][2])\n",
    "        stdTime = np.std(contacts[key][2])\n",
    "        aveResp = contacts[key][1]/float(contacts[key][0])\n",
    "        contacts[key][3] = meanTime\n",
    "        contacts[key][4] = medianTime\n",
    "        contacts[key][5] = stdTime\n",
    "        contacts[key][6] = aveResp \n",
    "        \n",
    "overall[2] = float(overall[1])/float(overall[0]) # % responded\n",
    "overall[3] = np.mean(overall[5])\n",
    "overall[4] = np.median(overall[5])"
   ]
  },
  {
   "cell_type": "code",
   "execution_count": 369,
   "metadata": {
    "collapsed": false
   },
   "outputs": [],
   "source": [
    "# This block is for testing stuff\n",
    "\n",
    "# print contacts['producejb@hotmail.com ']\n",
    "# print contacts['sue.houde@gmail.com ']\n",
    "# print len(contacts['sue.houde@gmail.com '][2])\n",
    "# print len(details)\n",
    "# # print len(details[1])\n",
    "# for i in range(len(details)):\n",
    "#     if details[i][1] == 'joefa@comcast.net':\n",
    "#         print details[i]\n",
    "        \n",
    "# print inbox[9]\n",
    "\n",
    "# print overall[0:5]\n",
    "# print np.max(overall[5])/60"
   ]
  },
  {
   "cell_type": "markdown",
   "metadata": {},
   "source": [
    "So now I have a detailed list of messages I've received with my response time if any (I only responded to about half of them) as well as some statistics on my normal response rate to a given sender.  I also have some overall statistics that I can use for people I don't normally respond to and/or to weight my predicted response.  I respond to about 53% of incoming messages over the last year with a median response time of 15 minutes, but a mean of 652 (and a max of 650 hours)\n",
    "\n",
    "Now I'm going to train a linear regression on some features and see what I get"
   ]
  },
  {
   "cell_type": "code",
   "execution_count": 370,
   "metadata": {
    "collapsed": false
   },
   "outputs": [
    {
     "data": {
      "text/plain": [
       "LinearRegression(copy_X=True, fit_intercept=True, normalize=False)"
      ]
     },
     "execution_count": 370,
     "metadata": {},
     "output_type": "execute_result"
    }
   ],
   "source": [
    "# details has [mID, from_email, email_sent date/time, response_time]\n",
    "# X = [from_email, email_sent_date/time]\n",
    "# y = [response_time]\n",
    "\n",
    "from datetime import datetime\n",
    "\n",
    "#I'm going to try splitting the epoch date in WeekDay and Hour and see if that's better\n",
    "\n",
    "X = []\n",
    "y = []\n",
    "\n",
    "for row in details:\n",
    "#     print row\n",
    "    X.append(row[2:4])\n",
    "    y.append(row[4])\n",
    "#     if row[4] != 0: # only train on the responded messages\n",
    "#         X.append(row[2])\n",
    "#         X.append(row[2:4])\n",
    "#         temp = []\n",
    "#         temp.append(row[2]) # sender ID\n",
    "#         temp.append(datetime.fromtimestamp(row[3]).weekday()) # Day of Week as int\n",
    "#         temp.append(int(time.strftime('%H', time.localtime(row[3])))) # hour of day\n",
    "#         X.append(temp)\n",
    "#         time.strftime('%H:%M:%S', time.localtime(1461718287)) # this gives me hh:mm:ss\n",
    "#         y.append(row[4])\n",
    "\n",
    "# Time to do some machine learnin'\n",
    "\n",
    "from sklearn import linear_model\n",
    "\n",
    "regr = linear_model.LinearRegression()\n",
    "regr.fit(X,y)"
   ]
  },
  {
   "cell_type": "markdown",
   "metadata": {},
   "source": [
    "Although it hurt me to leave stubs of code in, you can see that I tried several variations of how I was looking at the time the email was received.  None of them worked as well as just plain using the epoch time from unix.  I found this rather surprising because I thought hour of day and day of week would be pretty good indicators.  I also found the results better if I trained on the entire detail dataset, not just on the emails that I responded to.  It's very possible I just have no where near enough data."
   ]
  },
  {
   "cell_type": "code",
   "execution_count": 371,
   "metadata": {
    "collapsed": false
   },
   "outputs": [
    {
     "name": "stdout",
     "output_type": "stream",
     "text": [
      "42.5008587484\n",
      "[12.888 -0.000]\n"
     ]
    }
   ],
   "source": [
    "# print details[1]\n",
    "# print X[0]\n",
    "# print y[1]\n",
    "# \n",
    "print regr.predict([17, 1461718287])\n",
    "# regr.predict([17, 15, 1])\n",
    "# regr.predict([17])\n",
    "# print regr.predict([17, 1])\n",
    "# to predict I feed it an index to the contact and the unix time the \n",
    "# email was received, it returns the predicted time in minutes to my response\n",
    "print regr.coef_"
   ]
  },
  {
   "cell_type": "code",
   "execution_count": 373,
   "metadata": {
    "collapsed": true
   },
   "outputs": [],
   "source": [
    "# Getting my test data\n",
    "\n",
    "import imaplib, email, getpass\n",
    "from email.utils import getaddresses\n",
    "\n",
    "# Email settings\n",
    "imap_server = 'imap.gmail.com'\n",
    "imap_user = 'scott.houde@gmail.com'\n",
    "imap_password = getpass.getpass()\n",
    "# imap_password = '' # revoked and removed password\n",
    "# Connection\n",
    "conn = imaplib.IMAP4_SSL(imap_server)\n",
    "(retcode, capabilities) = conn.login(imap_user, imap_password)\n",
    "\n",
    "conn.list() # this makes the actual connection, run this command alone to see a list of folders\n",
    "\n",
    "conn.select(\"[Gmail]/All Mail\", readonly=True) # This saves out all the mail, in and out\n",
    "# result, data = conn.uid('search', None, 'ALL')\n",
    "result, data = conn.uid('search', None, '(SINCE \"21-Apr-2016\" BEFORE \"28-Apr-2016\")') # Adjust the dates here\n",
    "\n",
    "uids = data[0].split()\n",
    " \n",
    "# Download headers\n",
    "result, data = conn.uid('fetch', ','.join(uids), '(BODY[HEADER.FIELDS (MESSAGE-ID IN-REPLY-TO FROM TO CC DATE)])')"
   ]
  },
  {
   "cell_type": "code",
   "execution_count": 374,
   "metadata": {
    "collapsed": false
   },
   "outputs": [],
   "source": [
    "# This outputs all of my tesing email data to a text file so I can read it in easier later\n",
    "# import datetime\n",
    "import time\n",
    "\n",
    "# Where data will be stored\n",
    "raw_file = open('raw-train-email.tsv', 'w')\n",
    "# Header for TSV file\n",
    "raw_file.write(\"Message-ID\\tDate\\tReplyTo\\tFrom\\tTo\\tCc\\n\")\n",
    "# Parse data and spit out info\n",
    "for i in range(0, len(data)):\n",
    "     \n",
    "    # If the current item is _not_ an email header\n",
    "    if len(data[i]) != 2:\n",
    "        continue\n",
    "    # Okay, it's an email header. Parse it.\n",
    "    msg = email.message_from_string(data[i][1])\n",
    "    mids = msg.get_all('message-id', None)\n",
    "    mdates = msg.get_all('date', None)\n",
    "    reply_to = msg.get_all('in-reply-To', None)\n",
    "    senders = msg.get_all('from', [])\n",
    "    receivers = msg.get_all('to', [])\n",
    "    ccs = msg.get_all('cc', [])\n",
    "    \n",
    "    email_sent = str(time.mktime(email.utils.parsedate(mdates[0])))\n",
    "\n",
    "    row = \"\\t\" if not mids else mids[0] + \"\\t\"\n",
    "    row += \"\\t\" if not email_sent else email_sent + \"\\t\"\n",
    "    row += \"\\t\" if not reply_to else reply_to[0] + \"\\t\"\n",
    "    \n",
    "    # Only one person sends an email, but just in case\n",
    "    for name, addr in getaddresses(senders):\n",
    "        row += addr + \" \"\n",
    "    row += \"\\t\"\n",
    "     \n",
    "    # Space-delimited list of those the email was addressed to\n",
    "    for name, addr in getaddresses(receivers):\n",
    "        row += addr + \" \"\n",
    "    row += \"\\t\"\n",
    "        \n",
    "    # Space-delimited list of those who were CC'd\n",
    "    for name, addr in getaddresses(ccs):\n",
    "        row += addr + \" \"\n",
    "     \n",
    "    row += \"\\n\"\n",
    "     \n",
    "    # Just going to output tab-delimited, raw data.\n",
    "    raw_file.write(row)\n",
    "\n",
    "# Done with file, so close it\n",
    "raw_file.close()"
   ]
  },
  {
   "cell_type": "code",
   "execution_count": 375,
   "metadata": {
    "collapsed": false
   },
   "outputs": [],
   "source": [
    "# So same as before - except just for my training data\n",
    "# Okay, now lets reduce down my email data to just the address I care about\n",
    "# I'm going to read back in my email file and only save the rows I care about\n",
    "# while I do that I'm going to split the email file into two, one for emails I've received and one for emails I've sent\n",
    "\n",
    "temp = []\n",
    "inbox_test = []\n",
    "sentbox_test = []\n",
    "\n",
    "with open('raw-train-email.tsv', 'rb') as f:\n",
    "    reader = csv.reader(f, delimiter='\\t') # yup csv reader for tsv files, who knew\n",
    "    reader.next() # skips header row\n",
    "    for row in reader:\n",
    "        temp.append(row)\n",
    "        if row[3] in contacts: # is this from someone I care about\n",
    "            if row[3].strip() == 'scott.houde@gmail.com': # this is from me aka sent mail\n",
    "                sentbox_test.append(row)\n",
    "            else:\n",
    "                inbox_test.append(row)\n"
   ]
  },
  {
   "cell_type": "code",
   "execution_count": 377,
   "metadata": {
    "collapsed": true
   },
   "outputs": [],
   "source": [
    "# then count the number of times I've responded and the total response time\n",
    "# the message ID in inbox should match up to a in_reply_to message ID in sentbox\n",
    "# [messageID, date/time, in-reply-to, from, to,cc]\n",
    "# contacts is [nbr received from, nbr sent to, [list of response times], mean response, median response, var, % response] \n",
    "\n",
    "details_test = [] # this stores message details that I can split and use for machine learning\n",
    "\n",
    "# an important thing to note is that this doesn't take into account if I initiated the email and they responded to me\n",
    "\n",
    "for email in inbox_test:\n",
    "    temp = []\n",
    "    responses = []\n",
    "    mID = email[0]\n",
    "    sender = email[3]\n",
    "    contacts[sender][0] +=1\n",
    "    temp.append(mID)\n",
    "    temp.append(sender.strip())\n",
    "    temp.append(contact_index.index(sender.strip()))\n",
    "    temp.append(int(float(email[1])))\n",
    "    responseTime = 0 # This means no response, the machine learning doesn't like None\n",
    "    for response in sentbox_test: #This is O(n^2) but still pretty fast since I've filtered down\n",
    "        rID = response[2]\n",
    "        if rID == mID:\n",
    "            contacts[sender][1] +=1\n",
    "            responseTime = (float(response[1]) - float(email[1])) / 60 # convert to minutes\n",
    "            responses.append(responseTime)\n",
    "            contacts[sender][2].append(responseTime)\n",
    "    \n",
    "    temp.append(responseTime)\n",
    "    details_test.append(temp)"
   ]
  },
  {
   "cell_type": "code",
   "execution_count": 385,
   "metadata": {
    "collapsed": false
   },
   "outputs": [],
   "source": [
    "# These will print out the my test data if needed\n",
    "#print len(details_test[1])\n",
    "# for i in range(len(details_test)):\n",
    "#     print details_test[i][1],'--',details_test[i][3],'--',details_test[i][4]\n",
    "# how does my predictor do against what really happened\n",
    "# print regr.predict([37, 1461294717])"
   ]
  },
  {
   "cell_type": "code",
   "execution_count": 440,
   "metadata": {
    "collapsed": true
   },
   "outputs": [],
   "source": [
    "# This function takes a sender email and email sent date/time and generates a predicted response\n",
    "# I also included some statistics about my response times\n",
    "\n",
    "def predictResponse(sender, send_date):\n",
    "    email = ''\n",
    "    #First lookup the senderID given the sender\n",
    "    senderID = contact_index.index(sender.strip())\n",
    "    #Adjust the date if needed\n",
    "    \n",
    "    #predicted response time\n",
    "    pred = regr.predict([senderID, send_date])\n",
    "    #Consult the contacts dict to determine normal response statistics\n",
    "    if sender in contacts:\n",
    "        email += \"I normally respond to you \"\n",
    "        email += \"%.2g\" % (contacts[sender][6] * 100)\n",
    "        email += \"% of the time and my median response time is \"\n",
    "        email += \"%.4g\" % contacts[sender][4]\n",
    "        email += \" minutes.  \"\n",
    "        email += \"My predicted response time to you right now is: \"\n",
    "        email += str(\"%.6g\" % pred)\n",
    "        email += \" minutes\"\n",
    "    else: # If no normal responses I revert to my overall stuff\n",
    "        email += \"I usually respond to emails \"\n",
    "        email += \"%.4g\" % (overall[2] * 100)\n",
    "        email += \"% of the time and my median response time is \"\n",
    "        email += \"%.4g\" % overall[4]\n",
    "        email += \" minutes.  However I can take as long as \"\n",
    "        email += str(\"%.6g\" % np.max(overall[5]))\n",
    "        email += \" minutes and my mean is \"\n",
    "        email += \"%.4g\" % overall[3]\n",
    "        email += \" minutes. So please be patient if I don't respond quickly.\"\n",
    "    \n",
    "    return email\n",
    "    "
   ]
  },
  {
   "cell_type": "code",
   "execution_count": 442,
   "metadata": {
    "collapsed": false
   },
   "outputs": [
    {
     "name": "stdout",
     "output_type": "stream",
     "text": [
      "Unknown or not important sender:\n",
      "I usually respond to emails 53.3% of the time and my median response time is 14.93 minutes.  However I can take as long as 39033.1 minutes and my mean is 665.2 minutes. So please be patient if I don't respond quickly. \n",
      "\n",
      "Known sender:\n",
      "I normally respond to you 67% of the time and my median response time is 14.17 minutes.  My predicted response time to you right now is: 307.139 minutes \n",
      "\n",
      "Known sender:\n",
      "I normally respond to you 60% of the time and my median response time is 17.93 minutes.  My predicted response time to you right now is: 49.3884 minutes \n",
      "\n",
      "Known sender:\n",
      "I normally respond to you 86% of the time and my median response time is 17.35 minutes.  My predicted response time to you right now is: -143.925 minutes \n",
      "\n"
     ]
    }
   ],
   "source": [
    "print \"Unknown or not important sender:\"\n",
    "print predictResponse(\"xenophon13@gmail.com\", 1461323299),\"\\n\"\n",
    "print \"Known sender:\"\n",
    "print predictResponse(\"xenophon13@gmail.com \", 1461323299),\"\\n\"\n",
    "print \"Known sender:\"\n",
    "print predictResponse(\"josie.houde@gmail.com \", 1461323299),\"\\n\"\n",
    "print \"Known sender:\"\n",
    "print predictResponse('brilliantjosh@gmail.com ', 1461323299),\"\\n\""
   ]
  },
  {
   "cell_type": "code",
   "execution_count": 433,
   "metadata": {
    "collapsed": false,
    "scrolled": true
   },
   "outputs": [
    {
     "name": "stdout",
     "output_type": "stream",
     "text": [
      "Total Emails\tTotal Replies\tPercent Responded\tMean Response Time\tMedian Response Time\n",
      "454 \t\t242 \t\t0.533 \t\t\t665.2 \t\t\t14.93\n",
      "\n",
      "\n",
      "Major Contact Statisics\n",
      "Email\t\t\t\t From\tTo\t% Responded\tMean Time\tMedian Time\n",
      "lgibeau@gmail.com \t\t14 \t6 \t0.46 \t\t42.74 \t\t19.59\n",
      "shawnafav@yahoo.com \t\t1 \t1 \t1 \t\t0 \t\t0\n",
      "coachmikew@gmail.com \t\t4 \t1 \t0.5 \t\t39.57 \t\t39.57\n",
      "cmh1972@gmail.com \t\t3 \t3 \t1 \t\t440.5 \t\t502.4\n",
      "diro@comcast.net \t\t11 \t3 \t0.27 \t\t837.1 \t\t36.68\n",
      "josie.houde@gmail.com \t\t99 \t59 \t0.6 \t\t595.4 \t\t17.93\n",
      "producejb@hotmail.com \t\t36 \t18 \t0.5 \t\t1472 \t\t12.11\n",
      "marvy.uchida@gmail.com \t\t5 \t3 \t0.6 \t\t246.4 \t\t73.05\n",
      "acco1234@gmail.com \t\t1 \t0 \t0 \t\t0 \t\t0\n",
      "sue.houde@gmail.com \t\t33 \t10 \t0.3 \t\t3943 \t\t19.09\n",
      "scott_houde@brown.edu \t\t5 \t0 \t0 \t\t0 \t\t0\n",
      "peter_favaloro@hotmail.com \t\t2 \t0 \t0 \t\t0 \t\t0\n",
      "grimgoroth@gmail.com \t\t1 \t1 \t1 \t\t19.62 \t\t19.62\n",
      "cabourassa1972@gmail.com \t\t6 \t1 \t0 \t\t0 \t\t0\n",
      "lucien1974@aol.com \t\t1 \t0 \t0 \t\t0 \t\t0\n",
      "mmcginleycrowe@gmail.com \t\t1 \t1 \t1 \t\t43.88 \t\t43.88\n",
      "kristifav@yahoo.com \t\t9 \t5 \t0.56 \t\t157.7 \t\t0\n",
      "scott.houde@gmail.com \t\t0 \t0 \t0 \t\t0 \t\t0\n",
      "petros1976@hotmail.com \t\t1 \t0 \t0 \t\t0 \t\t0\n",
      "xenophon13@gmail.com \t\t57 \t36 \t0.67 \t\t188.2 \t\t14.17\n",
      "dissa12@gmail.com \t\t3 \t2 \t0.67 \t\t1096 \t\t1096\n",
      "MHOUDE@travelers.com \t\t4 \t0 \t0 \t\t0 \t\t0\n",
      "mrfavaloro@comcast.net \t\t13 \t5 \t0.38 \t\t3295 \t\t24.12\n",
      "sfavaloro86@gmail.com \t\t14 \t6 \t0.43 \t\t350.4 \t\t35.38\n",
      "gameologists@gmail.com \t\t14 \t13 \t0.93 \t\t185.9 \t\t34.6\n",
      "cadencele@gmail.com \t\t3 \t0 \t0 \t\t0 \t\t0\n",
      "gamesbyplaydate@gmail.com \t\t4 \t1 \t0.25 \t\t0.6333 \t\t0.6333\n",
      "sceven@comcast.net \t\t8 \t4 \t0.5 \t\t748.1 \t\t126.9\n",
      "houde.nathan@gmail.com \t\t47 \t31 \t0.66 \t\t393.5 \t\t8.133\n",
      "suzanne.houde@navy.mil \t\t13 \t6 \t0.5 \t\t149.2 \t\t0\n",
      "brilliantjosh@gmail.com \t\t7 \t6 \t0.86 \t\t268.9 \t\t17.35\n",
      "houde.markr@gmail.com \t\t21 \t15 \t0.71 \t\t96.29 \t\t7.083\n",
      "joefa@comcast.net \t\t7 \t2 \t0.29 \t\t22.93 \t\t22.93\n",
      "mfavs327@gmail.com \t\t5 \t1 \t0.2 \t\t2682 \t\t2682\n",
      "kfavs1011@gmail.com \t\t4 \t1 \t0.25 \t\t4.717 \t\t4.717\n",
      "craig-phillips@live.com \t\t5 \t1 \t0.2 \t\t195.2 \t\t195.2\n",
      "aurele@roadrunner.com \t\t1 \t0 \t0 \t\t0 \t\t0\n",
      "dbrouillard@gmail.com \t\t4 \t3 \t0.75 \t\t851 \t\t140.5\n"
     ]
    }
   ],
   "source": [
    "# This prints out my contact and overall statistics\n",
    "print \"Total Emails\\tTotal Replies\\tPercent Responded\\tMean Response Time\\tMedian Response Time\"\n",
    "print overall[0],'\\t\\t',overall[1],'\\t\\t',\"%.4g\" % overall[2],'\\t\\t\\t',\"%.4g\" % overall[3],'\\t\\t\\t', \"%.4g\" % overall[4]\n",
    "print '\\n'\n",
    "print \"Major Contact Statisics\"\n",
    "print \"Email\\t\\t\\t\\t From\\tTo\\t% Responded\\tMean Time\\tMedian Time\"\n",
    "\n",
    "for k in contacts:\n",
    "    print k.strip(), '\\t\\t',contacts[k][0],'\\t', contacts[k][1],'\\t',\"%.2g\" % contacts[k][6],'\\t\\t',\"%.4g\" % contacts[k][3],'\\t\\t', \"%.4g\" % contacts[k][4]\n",
    "    \n"
   ]
  },
  {
   "cell_type": "markdown",
   "metadata": {},
   "source": [
    "Because my immediate family uses a mailing list to communicate and I was filtering that out I was sometimes getting a negative response time, I am just manually setting that to 0 to ignore them.  This sometimes leads to the wierd situation where I responded to them, but the response time is 0.\n",
    "\n",
    "You'll also notice that one of my predicted response times is negative.  I'm taking that to mean that if that person emailed me at the date/time I would respond immediately.  Which is probably a good guess actually."
   ]
  },
  {
   "cell_type": "code",
   "execution_count": null,
   "metadata": {
    "collapsed": false
   },
   "outputs": [],
   "source": []
  },
  {
   "cell_type": "code",
   "execution_count": null,
   "metadata": {
    "collapsed": true
   },
   "outputs": [],
   "source": []
  }
 ],
 "metadata": {
  "kernelspec": {
   "display_name": "Python 2",
   "language": "python",
   "name": "python2"
  },
  "language_info": {
   "codemirror_mode": {
    "name": "ipython",
    "version": 2
   },
   "file_extension": ".py",
   "mimetype": "text/x-python",
   "name": "python",
   "nbconvert_exporter": "python",
   "pygments_lexer": "ipython2",
   "version": "2.7.9"
  }
 },
 "nbformat": 4,
 "nbformat_minor": 0
}
